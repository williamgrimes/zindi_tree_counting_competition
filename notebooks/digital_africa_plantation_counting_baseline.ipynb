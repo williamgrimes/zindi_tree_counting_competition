{
 "cells": [
  {
   "cell_type": "markdown",
   "id": "47b5a5a4",
   "metadata": {
    "id": "47b5a5a4",
    "papermill": {
     "duration": 0.00632,
     "end_time": "2023-02-28T17:16:37.020144",
     "exception": false,
     "start_time": "2023-02-28T17:16:37.013824",
     "status": "completed"
    },
    "tags": []
   },
   "source": [
    "Dataset from: https://zindi.africa/competitions/digital-africa-plantation-counting-challenge"
   ]
  },
  {
   "cell_type": "code",
   "execution_count": null,
   "id": "7c81ebb7",
   "metadata": {
    "_cell_guid": "b1076dfc-b9ad-4769-8c92-a6c4dae69d19",
    "_uuid": "8f2839f25d086af736a60e9eeb907d3b93b6e0e5",
    "colab": {
     "base_uri": "https://localhost:8080/"
    },
    "execution": {
     "iopub.execute_input": "2023-02-28T17:16:37.032543Z",
     "iopub.status.busy": "2023-02-28T17:16:37.032003Z",
     "iopub.status.idle": "2023-02-28T17:16:53.634875Z",
     "shell.execute_reply": "2023-02-28T17:16:53.633685Z"
    },
    "id": "7c81ebb7",
    "outputId": "8a74e991-97ad-475a-9281-dbeadcf5fc6d",
    "papermill": {
     "duration": 16.612584,
     "end_time": "2023-02-28T17:16:53.637980",
     "exception": false,
     "start_time": "2023-02-28T17:16:37.025396",
     "status": "completed"
    },
    "tags": []
   },
   "outputs": [
    {
     "name": "stdout",
     "output_type": "stream",
     "text": [
      "Looking in indexes: https://pypi.org/simple, https://us-python.pkg.dev/colab-wheels/public/simple/\n",
      "Collecting efficientnet_pytorch\n",
      "  Downloading efficientnet_pytorch-0.7.1.tar.gz (21 kB)\n",
      "  Preparing metadata (setup.py) ... \u001B[?25l\u001B[?25hdone\n",
      "Requirement already satisfied: torch in /usr/local/lib/python3.9/dist-packages (from efficientnet_pytorch) (1.13.1+cu116)\n",
      "Requirement already satisfied: typing-extensions in /usr/local/lib/python3.9/dist-packages (from torch->efficientnet_pytorch) (4.5.0)\n",
      "Building wheels for collected packages: efficientnet_pytorch\n",
      "  Building wheel for efficientnet_pytorch (setup.py) ... \u001B[?25l\u001B[?25hdone\n",
      "  Created wheel for efficientnet_pytorch: filename=efficientnet_pytorch-0.7.1-py3-none-any.whl size=16446 sha256=c4c8e3e71ef05f7b90dd5c4dbf1aad4ae668aa1866d61a513c887f62cf80cac7\n",
      "  Stored in directory: /root/.cache/pip/wheels/29/16/24/752e89d88d333af39a288421e64d613b5f652918e39ef1f8e3\n",
      "Successfully built efficientnet_pytorch\n",
      "Installing collected packages: efficientnet_pytorch\n",
      "Successfully installed efficientnet_pytorch-0.7.1\n"
     ]
    }
   ],
   "source": [
    "!pip install efficientnet_pytorch   \n",
    "\n",
    "import os\n",
    "\n",
    "import albumentations as A\n",
    "import matplotlib.pyplot as plt\n",
    "import numpy as np\n",
    "import pandas as pd\n",
    "\n",
    "\n",
    "from PIL import Image\n",
    "\n",
    "import torch\n",
    "import torch.nn.functional as F\n",
    "\n",
    "from torch import nn, optim\n",
    "from torch.utils.data import Dataset, DataLoader\n",
    "\n",
    "from albumentations.pytorch import ToTensorV2\n",
    "from tqdm import tqdm\n",
    "from efficientnet_pytorch import EfficientNet\n",
    "from sklearn.metrics import mean_squared_error"
   ]
  },
  {
   "cell_type": "code",
   "execution_count": null,
   "id": "JJFQTgWtYRcS",
   "metadata": {
    "colab": {
     "base_uri": "https://localhost:8080/"
    },
    "id": "JJFQTgWtYRcS",
    "outputId": "7851f852-ae1c-455a-83b5-dcbf4eb5c22d"
   },
   "outputs": [
    {
     "name": "stdout",
     "output_type": "stream",
     "text": [
      "Thu Mar  9 11:38:27 2023       \n",
      "+-----------------------------------------------------------------------------+\n",
      "| NVIDIA-SMI 525.85.12    Driver Version: 525.85.12    CUDA Version: 12.0     |\n",
      "|-------------------------------+----------------------+----------------------+\n",
      "| GPU  Name        Persistence-M| Bus-Id        Disp.A | Volatile Uncorr. ECC |\n",
      "| Fan  Temp  Perf  Pwr:Usage/Cap|         Memory-Usage | GPU-Util  Compute M. |\n",
      "|                               |                      |               MIG M. |\n",
      "|===============================+======================+======================|\n",
      "|   0  Tesla T4            Off  | 00000000:00:04.0 Off |                    0 |\n",
      "| N/A   60C    P0    24W /  70W |      0MiB / 15360MiB |      0%      Default |\n",
      "|                               |                      |                  N/A |\n",
      "+-------------------------------+----------------------+----------------------+\n",
      "                                                                               \n",
      "+-----------------------------------------------------------------------------+\n",
      "| Processes:                                                                  |\n",
      "|  GPU   GI   CI        PID   Type   Process name                  GPU Memory |\n",
      "|        ID   ID                                                   Usage      |\n",
      "|=============================================================================|\n",
      "|  No running processes found                                                 |\n",
      "+-----------------------------------------------------------------------------+\n"
     ]
    }
   ],
   "source": [
    "!nvidia-smi"
   ]
  },
  {
   "cell_type": "code",
   "execution_count": null,
   "id": "sUikP11EUvFb",
   "metadata": {
    "colab": {
     "base_uri": "https://localhost:8080/"
    },
    "id": "sUikP11EUvFb",
    "outputId": "f4416064-80c8-475f-f1db-9bff6ead052a"
   },
   "outputs": [
    {
     "name": "stdout",
     "output_type": "stream",
     "text": [
      "Drive already mounted at /content/drive; to attempt to forcibly remount, call drive.mount(\"/content/drive\", force_remount=True).\n"
     ]
    }
   ],
   "source": [
    "from google.colab import drive\n",
    "drive.mount('/content/drive')"
   ]
  },
  {
   "cell_type": "code",
   "execution_count": null,
   "id": "UWL8GKaoU6VK",
   "metadata": {
    "id": "UWL8GKaoU6VK"
   },
   "outputs": [],
   "source": [
    "Train = pd.read_csv('/content/drive/My Drive/ZindiPlantationCounting/Train.csv')\n",
    "Test = pd.read_csv('/content/drive/My Drive/ZindiPlantationCounting/Test.csv')\n",
    "SampleSubmission = pd.read_csv('/content/drive/My Drive/ZindiPlantationCounting/SampleSubmission.csv')"
   ]
  },
  {
   "cell_type": "code",
   "execution_count": null,
   "id": "N-4wCzhXVl2w",
   "metadata": {
    "colab": {
     "base_uri": "https://localhost:8080/",
     "height": 424
    },
    "id": "N-4wCzhXVl2w",
    "outputId": "ab8a0729-5e7a-453a-bc11-f08adf3c7e37"
   },
   "outputs": [
    {
     "data": {
      "text/html": [
       "\n",
       "  <div id=\"df-66b61c1c-97ab-4780-97ee-6d3e2adaf592\">\n",
       "    <div class=\"colab-df-container\">\n",
       "      <div>\n",
       "<style scoped>\n",
       "    .dataframe tbody tr th:only-of-type {\n",
       "        vertical-align: middle;\n",
       "    }\n",
       "\n",
       "    .dataframe tbody tr th {\n",
       "        vertical-align: top;\n",
       "    }\n",
       "\n",
       "    .dataframe thead th {\n",
       "        text-align: right;\n",
       "    }\n",
       "</style>\n",
       "<table border=\"1\" class=\"dataframe\">\n",
       "  <thead>\n",
       "    <tr style=\"text-align: right;\">\n",
       "      <th></th>\n",
       "      <th>ImageId</th>\n",
       "      <th>Target</th>\n",
       "    </tr>\n",
       "  </thead>\n",
       "  <tbody>\n",
       "    <tr>\n",
       "      <th>0</th>\n",
       "      <td>Id_ohk78h9ld8.png</td>\n",
       "      <td>0</td>\n",
       "    </tr>\n",
       "    <tr>\n",
       "      <th>1</th>\n",
       "      <td>Id_eeyj2u4j7y.png</td>\n",
       "      <td>0</td>\n",
       "    </tr>\n",
       "    <tr>\n",
       "      <th>2</th>\n",
       "      <td>Id_wsd7vx2ifa.png</td>\n",
       "      <td>0</td>\n",
       "    </tr>\n",
       "    <tr>\n",
       "      <th>3</th>\n",
       "      <td>Id_6vfneamaoh.png</td>\n",
       "      <td>0</td>\n",
       "    </tr>\n",
       "    <tr>\n",
       "      <th>4</th>\n",
       "      <td>Id_9wil3575fv.png</td>\n",
       "      <td>0</td>\n",
       "    </tr>\n",
       "    <tr>\n",
       "      <th>...</th>\n",
       "      <td>...</td>\n",
       "      <td>...</td>\n",
       "    </tr>\n",
       "    <tr>\n",
       "      <th>853</th>\n",
       "      <td>Id_lmvuv1pm3a.png</td>\n",
       "      <td>0</td>\n",
       "    </tr>\n",
       "    <tr>\n",
       "      <th>854</th>\n",
       "      <td>Id_ez9lb2o6b1.png</td>\n",
       "      <td>0</td>\n",
       "    </tr>\n",
       "    <tr>\n",
       "      <th>855</th>\n",
       "      <td>Id_jeou44iven.png</td>\n",
       "      <td>0</td>\n",
       "    </tr>\n",
       "    <tr>\n",
       "      <th>856</th>\n",
       "      <td>Id_341bsipcnk.png</td>\n",
       "      <td>0</td>\n",
       "    </tr>\n",
       "    <tr>\n",
       "      <th>857</th>\n",
       "      <td>Id_2uc3cx6u47.png</td>\n",
       "      <td>0</td>\n",
       "    </tr>\n",
       "  </tbody>\n",
       "</table>\n",
       "<p>858 rows × 2 columns</p>\n",
       "</div>\n",
       "      <button class=\"colab-df-convert\" onclick=\"convertToInteractive('df-66b61c1c-97ab-4780-97ee-6d3e2adaf592')\"\n",
       "              title=\"Convert this dataframe to an interactive table.\"\n",
       "              style=\"display:none;\">\n",
       "        \n",
       "  <svg xmlns=\"http://www.w3.org/2000/svg\" height=\"24px\"viewBox=\"0 0 24 24\"\n",
       "       width=\"24px\">\n",
       "    <path d=\"M0 0h24v24H0V0z\" fill=\"none\"/>\n",
       "    <path d=\"M18.56 5.44l.94 2.06.94-2.06 2.06-.94-2.06-.94-.94-2.06-.94 2.06-2.06.94zm-11 1L8.5 8.5l.94-2.06 2.06-.94-2.06-.94L8.5 2.5l-.94 2.06-2.06.94zm10 10l.94 2.06.94-2.06 2.06-.94-2.06-.94-.94-2.06-.94 2.06-2.06.94z\"/><path d=\"M17.41 7.96l-1.37-1.37c-.4-.4-.92-.59-1.43-.59-.52 0-1.04.2-1.43.59L10.3 9.45l-7.72 7.72c-.78.78-.78 2.05 0 2.83L4 21.41c.39.39.9.59 1.41.59.51 0 1.02-.2 1.41-.59l7.78-7.78 2.81-2.81c.8-.78.8-2.07 0-2.86zM5.41 20L4 18.59l7.72-7.72 1.47 1.35L5.41 20z\"/>\n",
       "  </svg>\n",
       "      </button>\n",
       "      \n",
       "  <style>\n",
       "    .colab-df-container {\n",
       "      display:flex;\n",
       "      flex-wrap:wrap;\n",
       "      gap: 12px;\n",
       "    }\n",
       "\n",
       "    .colab-df-convert {\n",
       "      background-color: #E8F0FE;\n",
       "      border: none;\n",
       "      border-radius: 50%;\n",
       "      cursor: pointer;\n",
       "      display: none;\n",
       "      fill: #1967D2;\n",
       "      height: 32px;\n",
       "      padding: 0 0 0 0;\n",
       "      width: 32px;\n",
       "    }\n",
       "\n",
       "    .colab-df-convert:hover {\n",
       "      background-color: #E2EBFA;\n",
       "      box-shadow: 0px 1px 2px rgba(60, 64, 67, 0.3), 0px 1px 3px 1px rgba(60, 64, 67, 0.15);\n",
       "      fill: #174EA6;\n",
       "    }\n",
       "\n",
       "    [theme=dark] .colab-df-convert {\n",
       "      background-color: #3B4455;\n",
       "      fill: #D2E3FC;\n",
       "    }\n",
       "\n",
       "    [theme=dark] .colab-df-convert:hover {\n",
       "      background-color: #434B5C;\n",
       "      box-shadow: 0px 1px 3px 1px rgba(0, 0, 0, 0.15);\n",
       "      filter: drop-shadow(0px 1px 2px rgba(0, 0, 0, 0.3));\n",
       "      fill: #FFFFFF;\n",
       "    }\n",
       "  </style>\n",
       "\n",
       "      <script>\n",
       "        const buttonEl =\n",
       "          document.querySelector('#df-66b61c1c-97ab-4780-97ee-6d3e2adaf592 button.colab-df-convert');\n",
       "        buttonEl.style.display =\n",
       "          google.colab.kernel.accessAllowed ? 'block' : 'none';\n",
       "\n",
       "        async function convertToInteractive(key) {\n",
       "          const element = document.querySelector('#df-66b61c1c-97ab-4780-97ee-6d3e2adaf592');\n",
       "          const dataTable =\n",
       "            await google.colab.kernel.invokeFunction('convertToInteractive',\n",
       "                                                     [key], {});\n",
       "          if (!dataTable) return;\n",
       "\n",
       "          const docLinkHtml = 'Like what you see? Visit the ' +\n",
       "            '<a target=\"_blank\" href=https://colab.research.google.com/notebooks/data_table.ipynb>data table notebook</a>'\n",
       "            + ' to learn more about interactive tables.';\n",
       "          element.innerHTML = '';\n",
       "          dataTable['output_type'] = 'display_data';\n",
       "          await google.colab.output.renderOutput(dataTable, element);\n",
       "          const docLink = document.createElement('div');\n",
       "          docLink.innerHTML = docLinkHtml;\n",
       "          element.appendChild(docLink);\n",
       "        }\n",
       "      </script>\n",
       "    </div>\n",
       "  </div>\n",
       "  "
      ],
      "text/plain": [
       "               ImageId  Target\n",
       "0    Id_ohk78h9ld8.png       0\n",
       "1    Id_eeyj2u4j7y.png       0\n",
       "2    Id_wsd7vx2ifa.png       0\n",
       "3    Id_6vfneamaoh.png       0\n",
       "4    Id_9wil3575fv.png       0\n",
       "..                 ...     ...\n",
       "853  Id_lmvuv1pm3a.png       0\n",
       "854  Id_ez9lb2o6b1.png       0\n",
       "855  Id_jeou44iven.png       0\n",
       "856  Id_341bsipcnk.png       0\n",
       "857  Id_2uc3cx6u47.png       0\n",
       "\n",
       "[858 rows x 2 columns]"
      ]
     },
     "execution_count": 5,
     "metadata": {},
     "output_type": "execute_result"
    }
   ],
   "source": [
    "SampleSubmission"
   ]
  },
  {
   "cell_type": "code",
   "execution_count": null,
   "id": "NK6i_EcCV0S-",
   "metadata": {
    "colab": {
     "base_uri": "https://localhost:8080/"
    },
    "id": "NK6i_EcCV0S-",
    "outputId": "ad0e4a6e-73ad-423a-ada6-18b814902265"
   },
   "outputs": [
    {
     "name": "stdout",
     "output_type": "stream",
     "text": [
      "training images: 1701, testing images: 301\n"
     ]
    }
   ],
   "source": [
    "train_split = 0.85\n",
    "n_train = int(len(Train) * 0.85)\n",
    "n_test = int(len(Train) - n_train)\n",
    "print(f\"training images: {n_train}, testing images: {n_test}\")"
   ]
  },
  {
   "cell_type": "code",
   "execution_count": null,
   "id": "7b9b6370",
   "metadata": {
    "execution": {
     "iopub.execute_input": "2023-02-28T17:16:53.759144Z",
     "iopub.status.busy": "2023-02-28T17:16:53.755134Z",
     "iopub.status.idle": "2023-02-28T17:16:53.768165Z",
     "shell.execute_reply": "2023-02-28T17:16:53.767013Z"
    },
    "id": "7b9b6370",
    "papermill": {
     "duration": 0.021386,
     "end_time": "2023-02-28T17:16:53.770213",
     "exception": false,
     "start_time": "2023-02-28T17:16:53.748827",
     "status": "completed"
    },
    "tags": []
   },
   "outputs": [],
   "source": [
    "class d(Dataset):\n",
    "    def __init__(self, csv_file, root_images, is_train=True, is_inference=False, transform=None ):\n",
    "        \n",
    "        self.root_images = root_images\n",
    "        self.transform   = transform\n",
    "        self.is_inference= is_inference\n",
    "        \n",
    "        if is_inference:\n",
    "            self.csv_file = csv_file\n",
    "        else:\n",
    "            if is_train:\n",
    "                self.csv_file = csv_file[:int(csv_file.shape[0]*0.85)].reset_index(drop=True)\n",
    "            else:\n",
    "                self.csv_file = csv_file[int(csv_file.shape[0]*0.85):].reset_index(drop=True)        \n",
    "        \n",
    "    def __len__(self):\n",
    "        return self.csv_file.shape[0]\n",
    "    \n",
    "    def __getitem__(self, index):\n",
    "        \n",
    "        root_and_dir = self.csv_file['ImageId'][index]\n",
    "        if not self.is_inference:\n",
    "            label = self.csv_file['Target'][index]\n",
    "        \n",
    "        image = np.array(Image.open(os.path.join(self.root_images, root_and_dir)).convert('RGB'))\n",
    "        \n",
    "        if self.transform is not None:\n",
    "            augmentations = self.transform(image=image)\n",
    "            image         = augmentations['image']\n",
    "            \n",
    "        if not self.is_inference:\n",
    "            return image, torch.as_tensor(label)\n",
    "    \n",
    "        return image"
   ]
  },
  {
   "cell_type": "code",
   "execution_count": null,
   "id": "8adc771f",
   "metadata": {
    "execution": {
     "iopub.execute_input": "2023-02-28T17:16:53.782531Z",
     "iopub.status.busy": "2023-02-28T17:16:53.781667Z",
     "iopub.status.idle": "2023-02-28T17:16:53.787051Z",
     "shell.execute_reply": "2023-02-28T17:16:53.786143Z"
    },
    "id": "8adc771f",
    "papermill": {
     "duration": 0.013319,
     "end_time": "2023-02-28T17:16:53.789049",
     "exception": false,
     "start_time": "2023-02-28T17:16:53.775730",
     "status": "completed"
    },
    "tags": []
   },
   "outputs": [],
   "source": [
    "LR = 1e-3 # learning rate\n",
    "BS = 2 # batch size\n",
    "NE = 100 # number of epochs\n",
    "H  = 1024 # image height\n",
    "W  = 1024 # image width\n",
    "train_file = Train\n",
    "test_file  = Test\n",
    "image_path = '/content/drive/My Drive/ZindiPlantationCounting/TreeImages'"
   ]
  },
  {
   "cell_type": "code",
   "execution_count": null,
   "id": "eb5390ad",
   "metadata": {
    "execution": {
     "iopub.execute_input": "2023-02-28T17:16:53.801068Z",
     "iopub.status.busy": "2023-02-28T17:16:53.800231Z",
     "iopub.status.idle": "2023-02-28T17:16:53.807982Z",
     "shell.execute_reply": "2023-02-28T17:16:53.806906Z"
    },
    "id": "eb5390ad",
    "papermill": {
     "duration": 0.016131,
     "end_time": "2023-02-28T17:16:53.810246",
     "exception": false,
     "start_time": "2023-02-28T17:16:53.794115",
     "status": "completed"
    },
    "tags": []
   },
   "outputs": [],
   "source": [
    "normalize = A.Normalize(\n",
    "    mean = [0.5,0.5,0.5],\n",
    "    std  = [0.5,0.5,0.5], max_pixel_value=255\n",
    ")\n",
    "\n",
    "train_transform = A.Compose([\n",
    "    A.Resize(H,W),\n",
    "    A.Blur(p=0.3),\n",
    "    A.HorizontalFlip(p=0.5),\n",
    "    A.VerticalFlip(p=0.5),\n",
    "    normalize,\n",
    "    ToTensorV2(),\n",
    "])\n",
    "\n",
    "val_transform = A.Compose([\n",
    "    A.Resize(H,W),\n",
    "    normalize,\n",
    "    ToTensorV2(),\n",
    "])"
   ]
  },
  {
   "cell_type": "code",
   "execution_count": null,
   "id": "c48f5b9f",
   "metadata": {
    "execution": {
     "iopub.execute_input": "2023-02-28T17:16:53.822076Z",
     "iopub.status.busy": "2023-02-28T17:16:53.821796Z",
     "iopub.status.idle": "2023-02-28T17:16:53.829141Z",
     "shell.execute_reply": "2023-02-28T17:16:53.828081Z"
    },
    "id": "c48f5b9f",
    "papermill": {
     "duration": 0.015772,
     "end_time": "2023-02-28T17:16:53.831211",
     "exception": false,
     "start_time": "2023-02-28T17:16:53.815439",
     "status": "completed"
    },
    "tags": []
   },
   "outputs": [],
   "source": [
    "train_ds     = d(train_file, image_path, is_train=True, is_inference=False, transform=train_transform )\n",
    "train_loader = DataLoader(train_ds, batch_size=BS, shuffle=True)\n",
    "\n",
    "val_ds     = d(train_file, image_path, is_train=False, is_inference=False, transform=val_transform )\n",
    "val_loader = DataLoader(val_ds, batch_size=BS, shuffle=False)\n",
    "\n",
    "test_ds     = d(test_file, image_path, is_train=False, is_inference=True, transform=val_transform )\n",
    "test_loader = DataLoader(test_ds, batch_size=BS, shuffle=False)"
   ]
  },
  {
   "cell_type": "code",
   "execution_count": null,
   "id": "cb6f0aef",
   "metadata": {
    "execution": {
     "iopub.execute_input": "2023-02-28T17:16:53.843193Z",
     "iopub.status.busy": "2023-02-28T17:16:53.842346Z",
     "iopub.status.idle": "2023-02-28T17:16:53.848499Z",
     "shell.execute_reply": "2023-02-28T17:16:53.847595Z"
    },
    "id": "cb6f0aef",
    "papermill": {
     "duration": 0.013946,
     "end_time": "2023-02-28T17:16:53.850505",
     "exception": false,
     "start_time": "2023-02-28T17:16:53.836559",
     "status": "completed"
    },
    "tags": []
   },
   "outputs": [],
   "source": [
    "class Net(nn.Module):\n",
    "    def __init__(self):\n",
    "        super(Net, self).__init__()\n",
    "        self.model = EfficientNet.from_pretrained('efficientnet-b3')\n",
    "        self.fc    = nn.Linear(1000, 1)\n",
    "        self.relu  = nn.ReLU()\n",
    "        \n",
    "    def forward(self, image):\n",
    "        x = self.model(image)\n",
    "        x = self.fc(x)\n",
    "        return self.relu(x)"
   ]
  },
  {
   "cell_type": "code",
   "execution_count": null,
   "id": "016356f3",
   "metadata": {
    "execution": {
     "iopub.execute_input": "2023-02-28T17:16:53.862134Z",
     "iopub.status.busy": "2023-02-28T17:16:53.861352Z",
     "iopub.status.idle": "2023-02-28T17:16:53.868516Z",
     "shell.execute_reply": "2023-02-28T17:16:53.867643Z"
    },
    "id": "016356f3",
    "papermill": {
     "duration": 0.014897,
     "end_time": "2023-02-28T17:16:53.870501",
     "exception": false,
     "start_time": "2023-02-28T17:16:53.855604",
     "status": "completed"
    },
    "tags": []
   },
   "outputs": [],
   "source": [
    "def check_acc(loader, model):\n",
    "    loss = 0\n",
    "    model.eval()\n",
    "    with torch.no_grad():\n",
    "        for x,y in tqdm(loader):\n",
    "            x = x.to('cuda').to(torch.float32)\n",
    "            y = y.to(torch.float).unsqueeze(1)\n",
    "            \n",
    "            preds = model(x)\n",
    "            loss += np.sqrt(mean_squared_error(preds.cpu(), y))\n",
    "    print(f'Loss function: {loss/len(loader)}')\n",
    "    model.train()\n",
    "    return loss/len(loader)\n",
    "    \n",
    "def save_checkpoint(state, filename):\n",
    "    print('--> Saving checkpoint')\n",
    "    torch.save(state, filename)\n",
    "\n",
    "def load_checkpoint(checkpoint, model):\n",
    "    print('--> Loading checkpoint')\n",
    "    model.load_state_dict(checkpoint['state_dict'])"
   ]
  },
  {
   "cell_type": "code",
   "execution_count": null,
   "id": "c6a7fc3b",
   "metadata": {
    "execution": {
     "iopub.execute_input": "2023-02-28T17:16:53.881573Z",
     "iopub.status.busy": "2023-02-28T17:16:53.881291Z",
     "iopub.status.idle": "2023-02-28T17:16:53.886534Z",
     "shell.execute_reply": "2023-02-28T17:16:53.885502Z"
    },
    "id": "c6a7fc3b",
    "papermill": {
     "duration": 0.012987,
     "end_time": "2023-02-28T17:16:53.888563",
     "exception": false,
     "start_time": "2023-02-28T17:16:53.875576",
     "status": "completed"
    },
    "tags": []
   },
   "outputs": [],
   "source": [
    "def train_fn(loader, model, opt, loss_fn):\n",
    "    for x,y in tqdm(loader):\n",
    "        x = x.to('cuda').to(torch.float32)\n",
    "        y = y.to(torch.float).unsqueeze(1).to('cuda')\n",
    "\n",
    "        preds = model(x).to(torch.float)\n",
    "        \n",
    "        loss = loss_fn(preds, y)\n",
    "        \n",
    "        model.zero_grad()\n",
    "        loss.backward()\n",
    "        opt.step()"
   ]
  },
  {
   "cell_type": "code",
   "execution_count": null,
   "id": "3fb90fad",
   "metadata": {
    "colab": {
     "base_uri": "https://localhost:8080/"
    },
    "execution": {
     "iopub.execute_input": "2023-02-28T17:16:53.899851Z",
     "iopub.status.busy": "2023-02-28T17:16:53.899585Z",
     "iopub.status.idle": "2023-02-28T17:57:06.395835Z",
     "shell.execute_reply": "2023-02-28T17:57:06.394565Z"
    },
    "id": "3fb90fad",
    "outputId": "48bc02f3-d772-4469-baf9-b70545250cbf",
    "papermill": {
     "duration": 2412.50482,
     "end_time": "2023-02-28T17:57:06.398304",
     "exception": false,
     "start_time": "2023-02-28T17:16:53.893484",
     "status": "completed"
    },
    "tags": []
   },
   "outputs": [
    {
     "name": "stdout",
     "output_type": "stream",
     "text": [
      "Loaded pretrained weights for efficientnet-b3\n",
      "------------------------------- Epoch: 0\n"
     ]
    },
    {
     "name": "stderr",
     "output_type": "stream",
     "text": [
      "100%|██████████| 851/851 [16:45<00:00,  1.18s/it]\n",
      "100%|██████████| 151/151 [01:58<00:00,  1.27it/s]\n"
     ]
    },
    {
     "name": "stdout",
     "output_type": "stream",
     "text": [
      "Loss function: 10.663227855567111\n",
      "--> Saving checkpoint\n",
      "------------------------------- Epoch: 1\n"
     ]
    },
    {
     "name": "stderr",
     "output_type": "stream",
     "text": [
      "100%|██████████| 851/851 [09:13<00:00,  1.54it/s]\n",
      "100%|██████████| 151/151 [00:39<00:00,  3.84it/s]\n"
     ]
    },
    {
     "name": "stdout",
     "output_type": "stream",
     "text": [
      "Loss function: 2.940116244386758\n",
      "--> Saving checkpoint\n",
      "------------------------------- Epoch: 2\n"
     ]
    },
    {
     "name": "stderr",
     "output_type": "stream",
     "text": [
      "100%|██████████| 851/851 [09:14<00:00,  1.54it/s]\n",
      "100%|██████████| 151/151 [00:39<00:00,  3.87it/s]\n"
     ]
    },
    {
     "name": "stdout",
     "output_type": "stream",
     "text": [
      "Loss function: 5.042157772280868\n",
      "------------------------------- Epoch: 3\n"
     ]
    },
    {
     "name": "stderr",
     "output_type": "stream",
     "text": [
      "100%|██████████| 851/851 [09:14<00:00,  1.53it/s]\n",
      "100%|██████████| 151/151 [00:38<00:00,  3.90it/s]\n"
     ]
    },
    {
     "name": "stdout",
     "output_type": "stream",
     "text": [
      "Loss function: 3.4461799666088146\n",
      "------------------------------- Epoch: 4\n"
     ]
    },
    {
     "name": "stderr",
     "output_type": "stream",
     "text": [
      "100%|██████████| 851/851 [09:12<00:00,  1.54it/s]\n",
      "100%|██████████| 151/151 [00:38<00:00,  3.88it/s]"
     ]
    },
    {
     "name": "stdout",
     "output_type": "stream",
     "text": [
      "Loss function: 5.385007365649899\n"
     ]
    },
    {
     "name": "stderr",
     "output_type": "stream",
     "text": [
      "\n"
     ]
    }
   ],
   "source": [
    "loss_fn = nn.MSELoss().to('cuda')\n",
    "model   = Net().to('cuda')\n",
    "opt     = optim.Adam(model.parameters(), lr=LR)\n",
    "loss    = 999999999\n",
    "es      = 0\n",
    "\n",
    "\n",
    "#check_acc(val_loader, model)\n",
    "for epoch in range(NE):\n",
    "    print('------------------------------- Epoch: '+str(epoch))\n",
    "    \n",
    "    train_fn(train_loader, model, opt, loss_fn)\n",
    "    new_loss = check_acc(val_loader, model)    \n",
    "    if new_loss < loss:\n",
    "        loss = new_loss\n",
    "        es   = 0\n",
    "        checkpoint = {\n",
    "            'state_dict': model.state_dict(),\n",
    "            'optimizer':  opt.state_dict()\n",
    "        }\n",
    "        save_checkpoint(checkpoint, filename='baseline.pth.tar')\n",
    "    \n",
    "    else:\n",
    "        es +=1\n",
    "    \n",
    "    if es == 3 :\n",
    "        break"
   ]
  },
  {
   "cell_type": "code",
   "execution_count": null,
   "id": "382bc97f",
   "metadata": {
    "colab": {
     "base_uri": "https://localhost:8080/"
    },
    "execution": {
     "iopub.execute_input": "2023-02-28T17:57:06.731152Z",
     "iopub.status.busy": "2023-02-28T17:57:06.730804Z",
     "iopub.status.idle": "2023-02-28T17:57:07.004690Z",
     "shell.execute_reply": "2023-02-28T17:57:07.003151Z"
    },
    "id": "382bc97f",
    "outputId": "c9db4334-4338-4609-84d3-af6f1b2bc857",
    "papermill": {
     "duration": 0.440524,
     "end_time": "2023-02-28T17:57:07.007185",
     "exception": false,
     "start_time": "2023-02-28T17:57:06.566661",
     "status": "completed"
    },
    "tags": []
   },
   "outputs": [
    {
     "name": "stdout",
     "output_type": "stream",
     "text": [
      "--> Loading checkpoint\n"
     ]
    }
   ],
   "source": [
    "load_checkpoint(torch.load('baseline.pth.tar'), model)"
   ]
  },
  {
   "cell_type": "code",
   "execution_count": null,
   "id": "c010e5e7",
   "metadata": {
    "execution": {
     "iopub.execute_input": "2023-02-28T17:57:07.339310Z",
     "iopub.status.busy": "2023-02-28T17:57:07.338959Z",
     "iopub.status.idle": "2023-02-28T17:57:07.344804Z",
     "shell.execute_reply": "2023-02-28T17:57:07.343697Z"
    },
    "id": "c010e5e7",
    "papermill": {
     "duration": 0.174302,
     "end_time": "2023-02-28T17:57:07.346874",
     "exception": false,
     "start_time": "2023-02-28T17:57:07.172572",
     "status": "completed"
    },
    "tags": []
   },
   "outputs": [],
   "source": [
    "def inference(loader, model):\n",
    "    model.eval()\n",
    "    all_preds = np.array([])\n",
    "    with torch.no_grad():\n",
    "        for x in tqdm(loader):\n",
    "            x = x.to('cuda').to(torch.float32)\n",
    "            all_preds = np.append(all_preds, model(x).cpu())\n",
    "            \n",
    "    print('Done!')\n",
    "    return all_preds                            "
   ]
  },
  {
   "cell_type": "code",
   "execution_count": null,
   "id": "b6907de2",
   "metadata": {
    "colab": {
     "base_uri": "https://localhost:8080/"
    },
    "execution": {
     "iopub.execute_input": "2023-02-28T17:57:07.896354Z",
     "iopub.status.busy": "2023-02-28T17:57:07.895938Z",
     "iopub.status.idle": "2023-02-28T17:58:49.051684Z",
     "shell.execute_reply": "2023-02-28T17:58:49.050526Z"
    },
    "id": "b6907de2",
    "outputId": "b5b1e90b-8abc-41ad-c5b3-1480f0b12314",
    "papermill": {
     "duration": 101.411338,
     "end_time": "2023-02-28T17:58:49.055723",
     "exception": false,
     "start_time": "2023-02-28T17:57:07.644385",
     "status": "completed"
    },
    "tags": []
   },
   "outputs": [
    {
     "name": "stderr",
     "output_type": "stream",
     "text": [
      "100%|██████████| 429/429 [14:16<00:00,  2.00s/it]"
     ]
    },
    {
     "name": "stdout",
     "output_type": "stream",
     "text": [
      "Done!\n"
     ]
    },
    {
     "name": "stderr",
     "output_type": "stream",
     "text": [
      "\n"
     ]
    }
   ],
   "source": [
    "preds = inference(test_loader, model)"
   ]
  },
  {
   "cell_type": "code",
   "execution_count": null,
   "id": "2182dc31",
   "metadata": {
    "colab": {
     "base_uri": "https://localhost:8080/",
     "height": 166
    },
    "execution": {
     "iopub.execute_input": "2023-02-28T17:58:49.414375Z",
     "iopub.status.busy": "2023-02-28T17:58:49.413975Z",
     "iopub.status.idle": "2023-02-28T17:58:49.421846Z",
     "shell.execute_reply": "2023-02-28T17:58:49.420718Z"
    },
    "id": "2182dc31",
    "outputId": "8a3538f6-9ba0-4a15-c8f9-02d0c8138679",
    "papermill": {
     "duration": 0.189456,
     "end_time": "2023-02-28T17:58:49.424255",
     "exception": false,
     "start_time": "2023-02-28T17:58:49.234799",
     "status": "completed"
    },
    "tags": []
   },
   "outputs": [
    {
     "ename": "NameError",
     "evalue": "ignored",
     "output_type": "error",
     "traceback": [
      "\u001B[0;31m---------------------------------------------------------------------------\u001B[0m",
      "\u001B[0;31mNameError\u001B[0m                                 Traceback (most recent call last)",
      "\u001B[0;32m<ipython-input-1-5dd9f24e6a41>\u001B[0m in \u001B[0;36m<module>\u001B[0;34m\u001B[0m\n\u001B[0;32m----> 1\u001B[0;31m \u001B[0mTest\u001B[0m\u001B[0;34m[\u001B[0m\u001B[0;34m'Target'\u001B[0m\u001B[0;34m]\u001B[0m \u001B[0;34m=\u001B[0m \u001B[0mpreds\u001B[0m\u001B[0;34m\u001B[0m\u001B[0;34m\u001B[0m\u001B[0m\n\u001B[0m",
      "\u001B[0;31mNameError\u001B[0m: name 'preds' is not defined"
     ]
    }
   ],
   "source": [
    "Test['Target'] = preds"
   ]
  },
  {
   "cell_type": "code",
   "execution_count": null,
   "id": "bb7b1f4f",
   "metadata": {
    "execution": {
     "iopub.execute_input": "2023-02-28T17:58:49.790144Z",
     "iopub.status.busy": "2023-02-28T17:58:49.789764Z",
     "iopub.status.idle": "2023-02-28T17:58:49.800188Z",
     "shell.execute_reply": "2023-02-28T17:58:49.798942Z"
    },
    "id": "bb7b1f4f",
    "papermill": {
     "duration": 0.19638,
     "end_time": "2023-02-28T17:58:49.802385",
     "exception": false,
     "start_time": "2023-02-28T17:58:49.606005",
     "status": "completed"
    },
    "tags": []
   },
   "outputs": [],
   "source": [
    "Test.to_csv('sub.csv', index=False)"
   ]
  },
  {
   "cell_type": "code",
   "execution_count": null,
   "id": "df91ae10",
   "metadata": {
    "execution": {
     "iopub.execute_input": "2023-02-28T17:58:50.208497Z",
     "iopub.status.busy": "2023-02-28T17:58:50.207322Z",
     "iopub.status.idle": "2023-02-28T17:58:50.222482Z",
     "shell.execute_reply": "2023-02-28T17:58:50.220278Z"
    },
    "id": "df91ae10",
    "outputId": "43ca6b33-be59-457d-da77-7a14b3b27b15",
    "papermill": {
     "duration": 0.244953,
     "end_time": "2023-02-28T17:58:50.225101",
     "exception": false,
     "start_time": "2023-02-28T17:58:49.980148",
     "status": "completed"
    },
    "tags": []
   },
   "outputs": [
    {
     "data": {
      "text/html": [
       "<div>\n",
       "<style scoped>\n",
       "    .dataframe tbody tr th:only-of-type {\n",
       "        vertical-align: middle;\n",
       "    }\n",
       "\n",
       "    .dataframe tbody tr th {\n",
       "        vertical-align: top;\n",
       "    }\n",
       "\n",
       "    .dataframe thead th {\n",
       "        text-align: right;\n",
       "    }\n",
       "</style>\n",
       "<table border=\"1\" class=\"dataframe\">\n",
       "  <thead>\n",
       "    <tr style=\"text-align: right;\">\n",
       "      <th></th>\n",
       "      <th>ImageId</th>\n",
       "      <th>Target</th>\n",
       "    </tr>\n",
       "  </thead>\n",
       "  <tbody>\n",
       "    <tr>\n",
       "      <th>0</th>\n",
       "      <td>Id_ohk78h9ld8.png</td>\n",
       "      <td>0.500275</td>\n",
       "    </tr>\n",
       "    <tr>\n",
       "      <th>1</th>\n",
       "      <td>Id_eeyj2u4j7y.png</td>\n",
       "      <td>-0.536374</td>\n",
       "    </tr>\n",
       "    <tr>\n",
       "      <th>2</th>\n",
       "      <td>Id_wsd7vx2ifa.png</td>\n",
       "      <td>11.203323</td>\n",
       "    </tr>\n",
       "    <tr>\n",
       "      <th>3</th>\n",
       "      <td>Id_6vfneamaoh.png</td>\n",
       "      <td>5.154625</td>\n",
       "    </tr>\n",
       "    <tr>\n",
       "      <th>4</th>\n",
       "      <td>Id_9wil3575fv.png</td>\n",
       "      <td>15.350361</td>\n",
       "    </tr>\n",
       "    <tr>\n",
       "      <th>...</th>\n",
       "      <td>...</td>\n",
       "      <td>...</td>\n",
       "    </tr>\n",
       "    <tr>\n",
       "      <th>853</th>\n",
       "      <td>Id_lmvuv1pm3a.png</td>\n",
       "      <td>0.492969</td>\n",
       "    </tr>\n",
       "    <tr>\n",
       "      <th>854</th>\n",
       "      <td>Id_ez9lb2o6b1.png</td>\n",
       "      <td>34.963478</td>\n",
       "    </tr>\n",
       "    <tr>\n",
       "      <th>855</th>\n",
       "      <td>Id_jeou44iven.png</td>\n",
       "      <td>0.008229</td>\n",
       "    </tr>\n",
       "    <tr>\n",
       "      <th>856</th>\n",
       "      <td>Id_341bsipcnk.png</td>\n",
       "      <td>8.018290</td>\n",
       "    </tr>\n",
       "    <tr>\n",
       "      <th>857</th>\n",
       "      <td>Id_2uc3cx6u47.png</td>\n",
       "      <td>-0.029009</td>\n",
       "    </tr>\n",
       "  </tbody>\n",
       "</table>\n",
       "<p>858 rows × 2 columns</p>\n",
       "</div>"
      ],
      "text/plain": [
       "               ImageId     Target\n",
       "0    Id_ohk78h9ld8.png   0.500275\n",
       "1    Id_eeyj2u4j7y.png  -0.536374\n",
       "2    Id_wsd7vx2ifa.png  11.203323\n",
       "3    Id_6vfneamaoh.png   5.154625\n",
       "4    Id_9wil3575fv.png  15.350361\n",
       "..                 ...        ...\n",
       "853  Id_lmvuv1pm3a.png   0.492969\n",
       "854  Id_ez9lb2o6b1.png  34.963478\n",
       "855  Id_jeou44iven.png   0.008229\n",
       "856  Id_341bsipcnk.png   8.018290\n",
       "857  Id_2uc3cx6u47.png  -0.029009\n",
       "\n",
       "[858 rows x 2 columns]"
      ]
     },
     "execution_count": 18,
     "metadata": {},
     "output_type": "execute_result"
    }
   ],
   "source": [
    "Test"
   ]
  },
  {
   "cell_type": "code",
   "execution_count": null,
   "id": "335dfe69",
   "metadata": {
    "id": "335dfe69",
    "papermill": {
     "duration": 0.180159,
     "end_time": "2023-02-28T17:58:50.587343",
     "exception": false,
     "start_time": "2023-02-28T17:58:50.407184",
     "status": "completed"
    },
    "tags": []
   },
   "outputs": [],
   "source": []
  }
 ],
 "metadata": {
  "accelerator": "GPU",
  "colab": {
   "provenance": []
  },
  "gpuClass": "standard",
  "kernelspec": {
   "display_name": "Python 3 (ipykernel)",
   "language": "python",
   "name": "python3"
  },
  "language_info": {
   "codemirror_mode": {
    "name": "ipython",
    "version": 3
   },
   "file_extension": ".py",
   "mimetype": "text/x-python",
   "name": "python",
   "nbconvert_exporter": "python",
   "pygments_lexer": "ipython3",
   "version": "3.8.16"
  },
  "papermill": {
   "default_parameters": {},
   "duration": 2545.445729,
   "end_time": "2023-02-28T17:58:53.147491",
   "environment_variables": {},
   "exception": null,
   "input_path": "__notebook__.ipynb",
   "output_path": "__notebook__.ipynb",
   "parameters": {},
   "start_time": "2023-02-28T17:16:27.701762",
   "version": "2.4.0"
  }
 },
 "nbformat": 4,
 "nbformat_minor": 5
}
